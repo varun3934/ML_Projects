{
 "cells": [
  {
   "cell_type": "markdown",
   "id": "23fca17d",
   "metadata": {},
   "source": [
    "Implementation of coffee roasting in tensorFlow"
   ]
  },
  {
   "cell_type": "code",
   "execution_count": 1,
   "id": "feca7c18",
   "metadata": {},
   "outputs": [
    {
     "name": "stdout",
     "output_type": "stream",
     "text": [
      "TF version: 2.11.0\n"
     ]
    }
   ],
   "source": [
    "import tensorflow as tf\n",
    "print(\"TF version:\", tf.__version__)\n"
   ]
  },
  {
   "cell_type": "code",
   "execution_count": 2,
   "id": "a3b2f536",
   "metadata": {},
   "outputs": [
    {
     "data": {
      "image/png": "[encoded data removed]",
      "text/plain": [
       "<Figure size 432x288 with 1 Axes>"
      ]
     },
     "metadata": {
      "needs_background": "light"
     },
     "output_type": "display_data"
    },
    {
     "name": "stdout",
     "output_type": "stream",
     "text": [
      "1/1 [==============================] - 0s 250ms/step\n",
      "Predicted roast time at 170°C: 33.30 minutes\n"
     ]
    }
   ],
   "source": [
    "import tensorflow as tf\n",
    "import numpy as np\n",
    "import matplotlib.pyplot as plt\n",
    "\n",
    "# Coffee roasting data (Temp in °C vs Time in mins)\n",
    "X = np.array([150, 160, 170, 180, 190, 200], dtype=float)  # Temperature\n",
    "y = np.array([50, 45, 30, 20, 15, 7], dtype=float)         # Time\n",
    "\n",
    "# Normalize input and output for better training\n",
    "X_norm = (X - X.mean()) / X.std()\n",
    "y_norm = (y - y.min()) / (y.max() - y.min())\n",
    "\n",
    "# Build model\n",
    "model = tf.keras.Sequential([\n",
    "    tf.keras.layers.Dense(10, activation='relu', input_shape=[1]),  # Hidden layer\n",
    "    tf.keras.layers.Dense(1, activation='sigmoid')                 # Output layer\n",
    "])\n",
    "\n",
    "# Compile model\n",
    "model.compile(optimizer='adam', loss='mean_squared_error')\n",
    "\n",
    "# Train model\n",
    "history = model.fit(X_norm, y_norm, epochs=300, verbose=0)\n",
    "\n",
    "# Plot training loss\n",
    "plt.plot(history.history['loss'])\n",
    "plt.xlabel(\"Epochs\")\n",
    "plt.ylabel(\"Loss\")\n",
    "plt.title(\"Training Loss\")\n",
    "plt.grid(True)\n",
    "plt.show()\n",
    "\n",
    "# Predict roast time for new temperature (e.g., 170°C)\n",
    "X_new = np.array([170])\n",
    "X_new_norm = (X_new - X.mean()) / X.std()\n",
    "y_pred_norm = model.predict(X_new_norm)\n",
    "\n",
    "# Rescale prediction back to minutes\n",
    "y_pred = y_pred_norm * (y.max() - y.min()) + y.min()\n",
    "print(f\"Predicted roast time at 170°C: {y_pred[0][0]:.2f} minutes\")\n"
   ]
  },
  {
   "cell_type": "code",
   "execution_count": null,
   "id": "5d855d49",
   "metadata": {},
   "outputs": [],
   "source": []
  }
 ],
 "metadata": {
  "kernelspec": {
   "display_name": "Python 3",
   "language": "python",
   "name": "python3"
  },
  "language_info": {
   "codemirror_mode": {
    "name": "ipython",
    "version": 3
   },
   "file_extension": ".py",
   "mimetype": "text/x-python",
   "name": "python",
   "nbconvert_exporter": "python",
   "pygments_lexer": "ipython3",
   "version": "3.9.1"
  }
 },
 "nbformat": 4,
 "nbformat_minor": 5
}
