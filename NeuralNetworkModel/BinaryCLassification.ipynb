{
 "cells": [
  {
   "cell_type": "code",
   "execution_count": 1,
   "id": "ff88a1ea",
   "metadata": {},
   "outputs": [],
   "source": [
    "import numpy as np\n",
    "import pandas as pd\n",
    "import tensorflow as tf\n",
    "import matplotlib.pyplot as plt"
   ]
  },
  {
   "cell_type": "code",
   "execution_count": 2,
   "id": "7cde67f3",
   "metadata": {},
   "outputs": [],
   "source": [
    "X = np.array([ \n",
    "    [180, 12.5],\n",
    "    [200, 13.0],\n",
    "    [220, 13.5],\n",
    "    [250, 14.0],\n",
    "    [160, 12.0],\n",
    "    [240, 12.2],\n",
    "    [210, 13.2],\n",
    "    [190, 13.8],\n",
    "    [170, 15.0],\n",
    "    [260, 11.5]\n",
    "    ],dtype = float)\n",
    "\n",
    "# 1 is good roast and 0 is bad roast\n",
    "y = np.array([1, 1, 1, 0, 0, 1, 1, 1, 0, 0],dtype = float) "
   ]
  },
  {
   "cell_type": "code",
   "execution_count": 3,
   "id": "c813f288",
   "metadata": {},
   "outputs": [
    {
     "data": {
      "text/plain": [
       "(10, 2)"
      ]
     },
     "execution_count": 3,
     "metadata": {},
     "output_type": "execute_result"
    }
   ],
   "source": [
    "X.shape"
   ]
  },
  {
   "cell_type": "code",
   "execution_count": 4,
   "id": "d9f02848",
   "metadata": {},
   "outputs": [
    {
     "data": {
      "text/plain": [
       "(10,)"
      ]
     },
     "execution_count": 4,
     "metadata": {},
     "output_type": "execute_result"
    }
   ],
   "source": [
    "y.shape"
   ]
  },
  {
   "cell_type": "code",
   "execution_count": 5,
   "id": "4bf72916",
   "metadata": {},
   "outputs": [
    {
     "data": {
      "text/plain": [
       "array([1., 1., 1., 0., 0., 1., 1., 1., 0., 0.])"
      ]
     },
     "execution_count": 5,
     "metadata": {},
     "output_type": "execute_result"
    }
   ],
   "source": [
    "y"
   ]
  },
  {
   "cell_type": "code",
   "execution_count": 6,
   "id": "dc0ced81",
   "metadata": {},
   "outputs": [
    {
     "name": "stdout",
     "output_type": "stream",
     "text": [
      "tem max and min post normalization: 1.6001893281936646 , 1.6001893281936646\n",
      "Duration max and min post normalization: 1.9279768466949463 , 1.9279768466949463\n"
     ]
    }
   ],
   "source": [
    "# normalization\n",
    "norm_1 = tf.keras.layers.Normalization(axis=-1)\n",
    "norm_1.adapt(X)\n",
    "Xn = norm_1(X)\n",
    "print(f\"tem max and min post normalization: {np.max(Xn[:,0])} , {np.max(Xn[:,0])}\")\n",
    "print(f\"Duration max and min post normalization: {np.max(Xn[:,1])} , {np.max(Xn[:,1])}\")"
   ]
  },
  {
   "cell_type": "code",
   "execution_count": 7,
   "id": "e735d792",
   "metadata": {},
   "outputs": [
    {
     "name": "stdout",
     "output_type": "stream",
     "text": [
      "(1000, 2) (1000,)\n"
     ]
    }
   ],
   "source": [
    "# Tile/copy our data to increase the training set size and reduce the number of training epochs.\n",
    "Xt = np.tile(Xn,(100,1))\n",
    "yt = np.tile(y,(100,))\n",
    "print(Xt.shape,yt.shape)"
   ]
  },
  {
   "cell_type": "markdown",
   "id": "641cf4bf",
   "metadata": {},
   "source": [
    "TensorFlow model"
   ]
  },
  {
   "cell_type": "code",
   "execution_count": 8,
   "id": "e6356390",
   "metadata": {},
   "outputs": [],
   "source": [
    "from tensorflow.keras.models import Sequential\n",
    "from tensorflow.keras.layers import Dense\n",
    "\n",
    "\n",
    "tf.random.set_seed(1234)\n",
    "model = Sequential(\n",
    "    [\n",
    "        tf.keras.Input(shape=(2,)),\n",
    "        Dense(3, activation='sigmoid', name = 'layer1'),\n",
    "        Dense(1, activation='sigmoid', name = 'layer2')\n",
    "     ]\n",
    ")"
   ]
  },
  {
   "cell_type": "code",
   "execution_count": 9,
   "id": "39902d52",
   "metadata": {},
   "outputs": [
    {
     "name": "stdout",
     "output_type": "stream",
     "text": [
      "Model: \"sequential\"\n",
      "_________________________________________________________________\n",
      " Layer (type)                Output Shape              Param #   \n",
      "=================================================================\n",
      " layer1 (Dense)              (None, 3)                 9         \n",
      "                                                                 \n",
      " layer2 (Dense)              (None, 1)                 4         \n",
      "                                                                 \n",
      "=================================================================\n",
      "Total params: 13\n",
      "Trainable params: 13\n",
      "Non-trainable params: 0\n",
      "_________________________________________________________________\n"
     ]
    }
   ],
   "source": [
    "model.summary()"
   ]
  },
  {
   "cell_type": "code",
   "execution_count": 10,
   "id": "c53b2cb5",
   "metadata": {},
   "outputs": [
    {
     "name": "stdout",
     "output_type": "stream",
     "text": [
      "W1(2, 3):\n",
      " [[ 1.0194116  -0.68084085  0.807464  ]\n",
      " [-0.5144466  -0.3685394   0.9676111 ]] \n",
      "b1(3,): [0. 0. 0.]\n",
      "W2(3, 1):\n",
      " [[-0.3953902 ]\n",
      " [-0.5750476 ]\n",
      " [-0.11119318]] \n",
      "b2(1,): [0.]\n"
     ]
    }
   ],
   "source": [
    "W1, b1 = model.get_layer(\"layer1\").get_weights()\n",
    "W2, b2 = model.get_layer(\"layer2\").get_weights()\n",
    "print(f\"W1{W1.shape}:\\n\", W1, f\"\\nb1{b1.shape}:\", b1)\n",
    "print(f\"W2{W2.shape}:\\n\", W2, f\"\\nb2{b2.shape}:\", b2)"
   ]
  },
  {
   "cell_type": "code",
   "execution_count": 12,
   "id": "d553d6f9",
   "metadata": {},
   "outputs": [
    {
     "name": "stdout",
     "output_type": "stream",
     "text": [
      "Epoch 1/10\n",
      "32/32 [==============================] - 1s 2ms/step - loss: 0.7261\n",
      "Epoch 2/10\n",
      "32/32 [==============================] - 0s 2ms/step - loss: 0.6780\n",
      "Epoch 3/10\n",
      "32/32 [==============================] - 0s 2ms/step - loss: 0.6733\n",
      "Epoch 4/10\n",
      "32/32 [==============================] - 0s 2ms/step - loss: 0.6706\n",
      "Epoch 5/10\n",
      "32/32 [==============================] - 0s 2ms/step - loss: 0.6671\n",
      "Epoch 6/10\n",
      "32/32 [==============================] - 0s 2ms/step - loss: 0.6596\n",
      "Epoch 7/10\n",
      "32/32 [==============================] - 0s 2ms/step - loss: 0.6485\n",
      "Epoch 8/10\n",
      "32/32 [==============================] - 0s 2ms/step - loss: 0.6304\n",
      "Epoch 9/10\n",
      "32/32 [==============================] - 0s 4ms/step - loss: 0.6073\n",
      "Epoch 10/10\n",
      "32/32 [==============================] - 0s 2ms/step - loss: 0.5775\n"
     ]
    },
    {
     "data": {
      "text/plain": [
       "<keras.callbacks.History at 0x194550602b0>"
      ]
     },
     "execution_count": 12,
     "metadata": {},
     "output_type": "execute_result"
    }
   ],
   "source": [
    "model.compile(\n",
    "    loss = tf.keras.losses.BinaryCrossentropy(),\n",
    "    optimizer = tf.keras.optimizers.Adam(learning_rate=0.01)\n",
    "\n",
    ")\n",
    "model.fit(\n",
    "    Xt,yt,epochs = 10,\n",
    ")"
   ]
  },
  {
   "cell_type": "code",
   "execution_count": 13,
   "id": "34495ff1",
   "metadata": {},
   "outputs": [
    {
     "name": "stdout",
     "output_type": "stream",
     "text": [
      "W1:\n",
      " [[ 3.042228  -1.5388355  0.5555355]\n",
      " [ 0.6343955  0.6784215  2.8910275]] \n",
      "b1: [-2.4650595 -1.0055321  2.4081407]\n",
      "W2:\n",
      " [[-1.1983109]\n",
      " [-0.5873111]\n",
      " [ 0.7646746]] \n",
      "b2: [0.39627308]\n"
     ]
    }
   ],
   "source": [
    "W1,b1 = model.get_layer(\"layer1\").get_weights()\n",
    "W2, b2 = model.get_layer(\"layer2\").get_weights()\n",
    "print(\"W1:\\n\", W1, \"\\nb1:\", b1)\n",
    "print(\"W2:\\n\", W2, \"\\nb2:\", b2)"
   ]
  },
  {
   "cell_type": "code",
   "execution_count": 17,
   "id": "2642151b",
   "metadata": {},
   "outputs": [
    {
     "name": "stdout",
     "output_type": "stream",
     "text": [
      "1/1 [==============================] - 0s 31ms/step\n",
      "predictions = \n",
      " [[0.6885372 ]\n",
      " [0.46235272]]\n"
     ]
    }
   ],
   "source": [
    "X_test = np.array([\n",
    "    [200,13.9],\n",
    "    [100,11]\n",
    "])\n",
    "X_testn = norm_1(X_test)\n",
    "prediction = model.predict(X_testn)\n",
    "print('predictions = \\n',prediction)\n"
   ]
  },
  {
   "cell_type": "code",
   "execution_count": 18,
   "id": "6bdd6606",
   "metadata": {},
   "outputs": [
    {
     "name": "stdout",
     "output_type": "stream",
     "text": [
      "decisions = \n",
      " [[1]\n",
      " [0]]\n"
     ]
    }
   ],
   "source": [
    "yhat = (prediction >= 0.5 ).astype(int)\n",
    "print(f'decisions = \\n',yhat)"
   ]
  },
  {
   "cell_type": "code",
   "execution_count": null,
   "id": "f0c0e4ad",
   "metadata": {},
   "outputs": [],
   "source": []
  }
 ],
 "metadata": {
  "kernelspec": {
   "display_name": "Python 3",
   "language": "python",
   "name": "python3"
  },
  "language_info": {
   "codemirror_mode": {
    "name": "ipython",
    "version": 3
   },
   "file_extension": ".py",
   "mimetype": "text/x-python",
   "name": "python",
   "nbconvert_exporter": "python",
   "pygments_lexer": "ipython3",
   "version": "3.9.1"
  }
 },
 "nbformat": 4,
 "nbformat_minor": 5
}
