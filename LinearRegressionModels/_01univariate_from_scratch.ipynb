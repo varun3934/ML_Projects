{
 "cells": [
  {
   "cell_type": "code",
   "execution_count": 1,
   "id": "30e4fcd6",
   "metadata": {},
   "outputs": [],
   "source": [
    "import numpy as np\n",
    "import pandas as pd\n",
    "import matplotlib.pyplot as plt"
   ]
  },
  {
   "cell_type": "code",
   "execution_count": 3,
   "id": "d1e758b6",
   "metadata": {},
   "outputs": [],
   "source": [
    "file_path = '../data/house_prices_dataset.csv'\n",
    "housing = pd.read_csv(file_path)"
   ]
  },
  {
   "cell_type": "code",
   "execution_count": 4,
   "id": "ceac71ba",
   "metadata": {},
   "outputs": [
    {
     "data": {
      "text/html": [
       "<div>\n",
       "<style scoped>\n",
       "    .dataframe tbody tr th:only-of-type {\n",
       "        vertical-align: middle;\n",
       "    }\n",
       "\n",
       "    .dataframe tbody tr th {\n",
       "        vertical-align: top;\n",
       "    }\n",
       "\n",
       "    .dataframe thead th {\n",
       "        text-align: right;\n",
       "    }\n",
       "</style>\n",
       "<table border=\"1\" class=\"dataframe\">\n",
       "  <thead>\n",
       "    <tr style=\"text-align: right;\">\n",
       "      <th></th>\n",
       "      <th>area</th>\n",
       "      <th>price</th>\n",
       "    </tr>\n",
       "  </thead>\n",
       "  <tbody>\n",
       "    <tr>\n",
       "      <th>0</th>\n",
       "      <td>2231.88</td>\n",
       "      <td>558852.17</td>\n",
       "    </tr>\n",
       "    <tr>\n",
       "      <th>1</th>\n",
       "      <td>2524.92</td>\n",
       "      <td>632260.29</td>\n",
       "    </tr>\n",
       "    <tr>\n",
       "      <th>2</th>\n",
       "      <td>1527.65</td>\n",
       "      <td>382994.25</td>\n",
       "    </tr>\n",
       "    <tr>\n",
       "      <th>3</th>\n",
       "      <td>1986.09</td>\n",
       "      <td>497607.86</td>\n",
       "    </tr>\n",
       "    <tr>\n",
       "      <th>4</th>\n",
       "      <td>2920.16</td>\n",
       "      <td>730870.84</td>\n",
       "    </tr>\n",
       "  </tbody>\n",
       "</table>\n",
       "</div>"
      ],
      "text/plain": [
       "      area      price\n",
       "0  2231.88  558852.17\n",
       "1  2524.92  632260.29\n",
       "2  1527.65  382994.25\n",
       "3  1986.09  497607.86\n",
       "4  2920.16  730870.84"
      ]
     },
     "execution_count": 4,
     "metadata": {},
     "output_type": "execute_result"
    }
   ],
   "source": [
    "housing.head()"
   ]
  },
  {
   "cell_type": "code",
   "execution_count": 5,
   "id": "1b35b8df",
   "metadata": {},
   "outputs": [
    {
     "name": "stdout",
     "output_type": "stream",
     "text": [
      "<class 'pandas.core.frame.DataFrame'>\n",
      "RangeIndex: 100 entries, 0 to 99\n",
      "Data columns (total 2 columns):\n",
      " #   Column  Non-Null Count  Dtype  \n",
      "---  ------  --------------  -----  \n",
      " 0   area    100 non-null    float64\n",
      " 1   price   100 non-null    float64\n",
      "dtypes: float64(2)\n",
      "memory usage: 1.7 KB\n"
     ]
    }
   ],
   "source": [
    "housing.info()"
   ]
  },
  {
   "cell_type": "code",
   "execution_count": 6,
   "id": "a75250bb",
   "metadata": {},
   "outputs": [
    {
     "data": {
      "text/html": [
       "<div>\n",
       "<style scoped>\n",
       "    .dataframe tbody tr th:only-of-type {\n",
       "        vertical-align: middle;\n",
       "    }\n",
       "\n",
       "    .dataframe tbody tr th {\n",
       "        vertical-align: top;\n",
       "    }\n",
       "\n",
       "    .dataframe thead th {\n",
       "        text-align: right;\n",
       "    }\n",
       "</style>\n",
       "<table border=\"1\" class=\"dataframe\">\n",
       "  <thead>\n",
       "    <tr style=\"text-align: right;\">\n",
       "      <th></th>\n",
       "      <th>area</th>\n",
       "      <th>price</th>\n",
       "    </tr>\n",
       "  </thead>\n",
       "  <tbody>\n",
       "    <tr>\n",
       "      <th>count</th>\n",
       "      <td>100.00000</td>\n",
       "      <td>100.000000</td>\n",
       "    </tr>\n",
       "    <tr>\n",
       "      <th>mean</th>\n",
       "      <td>2247.97960</td>\n",
       "      <td>562990.340700</td>\n",
       "    </tr>\n",
       "    <tr>\n",
       "      <th>std</th>\n",
       "      <td>453.86445</td>\n",
       "      <td>113464.467239</td>\n",
       "    </tr>\n",
       "    <tr>\n",
       "      <th>min</th>\n",
       "      <td>1522.16000</td>\n",
       "      <td>381657.070000</td>\n",
       "    </tr>\n",
       "    <tr>\n",
       "      <th>25%</th>\n",
       "      <td>1812.84750</td>\n",
       "      <td>454164.525000</td>\n",
       "    </tr>\n",
       "    <tr>\n",
       "      <th>50%</th>\n",
       "      <td>2284.15000</td>\n",
       "      <td>571887.305000</td>\n",
       "    </tr>\n",
       "    <tr>\n",
       "      <th>75%</th>\n",
       "      <td>2617.72750</td>\n",
       "      <td>655407.227500</td>\n",
       "    </tr>\n",
       "    <tr>\n",
       "      <th>max</th>\n",
       "      <td>2995.40000</td>\n",
       "      <td>749686.490000</td>\n",
       "    </tr>\n",
       "  </tbody>\n",
       "</table>\n",
       "</div>"
      ],
      "text/plain": [
       "             area          price\n",
       "count   100.00000     100.000000\n",
       "mean   2247.97960  562990.340700\n",
       "std     453.86445  113464.467239\n",
       "min    1522.16000  381657.070000\n",
       "25%    1812.84750  454164.525000\n",
       "50%    2284.15000  571887.305000\n",
       "75%    2617.72750  655407.227500\n",
       "max    2995.40000  749686.490000"
      ]
     },
     "execution_count": 6,
     "metadata": {},
     "output_type": "execute_result"
    }
   ],
   "source": [
    "housing.describe()"
   ]
  },
  {
   "cell_type": "code",
   "execution_count": 36,
   "id": "32ebff0c",
   "metadata": {},
   "outputs": [],
   "source": [
    "x_train = housing['area'].values\n",
    "y_train = housing['price'].values"
   ]
  },
  {
   "cell_type": "code",
   "execution_count": 44,
   "id": "4451ecf0",
   "metadata": {},
   "outputs": [],
   "source": [
    "x_mean = np.mean(x_train)\n",
    "x_std = np.std(x_train)\n",
    "x_scaled = (x_train - x_mean) / x_std"
   ]
  },
  {
   "cell_type": "code",
   "execution_count": 10,
   "id": "a846b471",
   "metadata": {},
   "outputs": [
    {
     "data": {
      "image/png": "[encoded data removed]",
      "text/plain": [
       "<Figure size 432x288 with 1 Axes>"
      ]
     },
     "metadata": {
      "needs_background": "light"
     },
     "output_type": "display_data"
    }
   ],
   "source": [
    "plt.scatter(x_train,y_train,c='b')\n",
    "plt.xlabel(\"Area\")\n",
    "plt.ylabel(\"Price\")\n",
    "plt.title(\"Area vs Price\")\n",
    "plt.grid(True)\n",
    "plt.show()"
   ]
  },
  {
   "cell_type": "code",
   "execution_count": 11,
   "id": "95f86003",
   "metadata": {},
   "outputs": [
    {
     "name": "stdout",
     "output_type": "stream",
     "text": [
      "100\n"
     ]
    }
   ],
   "source": [
    "print(x_train.shape[0])"
   ]
  },
  {
   "cell_type": "code",
   "execution_count": 45,
   "id": "698eb23b",
   "metadata": {},
   "outputs": [],
   "source": [
    "def cost_funct(x,y,w,b):\n",
    "    m = x.shape[0]\n",
    "    cost = 0\n",
    "    for i in range(m):\n",
    "        f_wb = w*x[i] + b\n",
    "        cost = cost + (f_wb - y[i])**2\n",
    "    cost = cost/(2*m)\n",
    "    return cost    "
   ]
  },
  {
   "cell_type": "code",
   "execution_count": 46,
   "id": "6905fa48",
   "metadata": {},
   "outputs": [],
   "source": [
    "def gradient(x,y,w,b):\n",
    "    m = x.shape[0]\n",
    "    dj_dw = 0\n",
    "    dj_db = 0\n",
    "    for i in range(m):\n",
    "        f_w = w * x[i] + b\n",
    "\n",
    "        dj_dw += (f_w - y[i])*x[i]\n",
    "        dj_db += (f_w - y[i])\n",
    "    dj_dw = dj_dw/m\n",
    "    dj_db = dj_db/m\n",
    "    return dj_dw,dj_db   "
   ]
  },
  {
   "cell_type": "code",
   "execution_count": 47,
   "id": "ecd923e7",
   "metadata": {},
   "outputs": [],
   "source": [
    "import math,copy\n",
    "def gradient_descent(x,y,w_in,b_in,cost_funct,gradient,alpha,num_iters):\n",
    "\n",
    "    j_history = []\n",
    "    w = copy.deepcopy(w_in)\n",
    "    b = b_in\n",
    "\n",
    "    for i in range(num_iters):\n",
    "        dj_dw,dj_db = gradient(x,y,w,b)\n",
    "        w = w - alpha*dj_dw\n",
    "        b = b - alpha*dj_db\n",
    "\n",
    "        if i<10000:\n",
    "            j_history.append(cost_funct(x,y,w,b))\n",
    "\n",
    "        if i%math.ceil(num_iters/10) == 0:\n",
    "            print(f\"Iteration {i:4}:cost {j_history[-1]}, w = {w:.4f},b = {b:.4f}\")\n",
    "\n",
    "\n",
    "    return w,b,j_history"
   ]
  },
  {
   "cell_type": "code",
   "execution_count": 56,
   "id": "7472338b",
   "metadata": {},
   "outputs": [
    {
     "name": "stdout",
     "output_type": "stream",
     "text": [
      "Iteration    0:cost 161571233220.59195, w = 1128.9567,b = 5629.9034\n",
      "Iteration 1000:cost 6186.563430817435, w = 112890.8422,b = 562966.2788\n",
      "Iteration 2000:cost 5885.433989575195, w = 112895.6671,b = 562990.3397\n",
      "Iteration 3000:cost 5885.433989014257, w = 112895.6673,b = 562990.3407\n",
      "Iteration 4000:cost 5885.433989014697, w = 112895.6673,b = 562990.3407\n",
      "Iteration 5000:cost 5885.433989014697, w = 112895.6673,b = 562990.3407\n",
      "Iteration 6000:cost 5885.433989014697, w = 112895.6673,b = 562990.3407\n",
      "Iteration 7000:cost 5885.433989014697, w = 112895.6673,b = 562990.3407\n",
      "Iteration 8000:cost 5885.433989014697, w = 112895.6673,b = 562990.3407\n",
      "Iteration 9000:cost 5885.433989014697, w = 112895.6673,b = 562990.3407\n",
      "final parameters : w = 112895.6673,b = 562990.3407\n"
     ]
    }
   ],
   "source": [
    "w= 0\n",
    "b= 0\n",
    "w_final,b_final,j_hist = gradient_descent(x_scaled,y_train,w,b,cost_funct,gradient,alpha=0.01,num_iters=10000)\n",
    "print(f\"final parameters : w = {w_final:.4f},b = {b_final:.4f}\")"
   ]
  },
  {
   "cell_type": "code",
   "execution_count": 57,
   "id": "6ff3a4e5",
   "metadata": {},
   "outputs": [
    {
     "data": {
      "image/png": "[encoded data removed]",
      "text/plain": [
       "<Figure size 432x288 with 1 Axes>"
      ]
     },
     "metadata": {
      "needs_background": "light"
     },
     "output_type": "display_data"
    }
   ],
   "source": [
    "# Convert x to scaled again for prediction\n",
    "x_pred = (x_train - x_mean) / x_std\n",
    "y_pred = w_final * x_pred + b_final\n",
    "\n",
    "plt.scatter(x_train, y_train, label=\"Actual Data\")\n",
    "plt.plot(x_train, y_pred, color='red', label=\"Regression Line\")\n",
    "plt.xlabel(\"Area\")\n",
    "plt.ylabel(\"Price\")\n",
    "plt.title(\"Linear Regression After Gradient Descent\")\n",
    "plt.legend()\n",
    "plt.grid(True)\n",
    "plt.show()\n"
   ]
  },
  {
   "cell_type": "code",
   "execution_count": 58,
   "id": "3a710718",
   "metadata": {},
   "outputs": [
    {
     "name": "stdout",
     "output_type": "stream",
     "text": [
      "Predicted price for 2100sqft:$525995.99\n"
     ]
    }
   ],
   "source": [
    "area_new = 2100\n",
    "area_newScale = (area_new - x_mean)/x_std\n",
    "prediction = w_final * area_newScale + b_final\n",
    "print(f\"Predicted price for {area_new}sqft:${prediction:.2f}\")\n"
   ]
  },
  {
   "cell_type": "code",
   "execution_count": 59,
   "id": "61863dd2",
   "metadata": {},
   "outputs": [
    {
     "name": "stdout",
     "output_type": "stream",
     "text": [
      "Area: 1000 sqft → Predicted Price: ₹251000.11\n",
      "Area: 1500 sqft → Predicted Price: ₹375998.24\n",
      "Area: 2000 sqft → Predicted Price: ₹500996.37\n",
      "Area: 2500 sqft → Predicted Price: ₹625994.50\n",
      "Area: 3000 sqft → Predicted Price: ₹750992.63\n"
     ]
    }
   ],
   "source": [
    "areas = np.array([1000, 1500, 2000, 2500, 3000])\n",
    "areas_scaled = (areas - x_mean) / x_std\n",
    "prices_pred = w_final * areas_scaled + b_final\n",
    "\n",
    "for a, p in zip(areas, prices_pred):\n",
    "    print(f\"Area: {a} sqft → Predicted Price: ₹{p:.2f}\")\n"
   ]
  },
  {
   "cell_type": "code",
   "execution_count": 60,
   "id": "9c5cf9e3",
   "metadata": {},
   "outputs": [
    {
     "data": {
      "image/png": "[encoded data removed]",
      "text/plain": [
       "<Figure size 432x288 with 1 Axes>"
      ]
     },
     "metadata": {
      "needs_background": "light"
     },
     "output_type": "display_data"
    }
   ],
   "source": [
    "plt.scatter(x_train, y_train, label=\"Actual Data\")\n",
    "plt.plot(x_train, w_final * ((x_train - x_mean) / x_std) + b_final, color='red', label=\"Prediction Line\")\n",
    "plt.xlabel(\"Area (sqft)\")\n",
    "plt.ylabel(\"Price\")\n",
    "plt.title(\"Final Linear Regression Fit\")\n",
    "plt.legend()\n",
    "plt.grid(True)\n",
    "plt.show()\n"
   ]
  },
  {
   "cell_type": "code",
   "execution_count": null,
   "id": "223bb761",
   "metadata": {},
   "outputs": [],
   "source": []
  }
 ],
 "metadata": {
  "kernelspec": {
   "display_name": "Python 3",
   "language": "python",
   "name": "python3"
  },
  "language_info": {
   "codemirror_mode": {
    "name": "ipython",
    "version": 3
   },
   "file_extension": ".py",
   "mimetype": "text/x-python",
   "name": "python",
   "nbconvert_exporter": "python",
   "pygments_lexer": "ipython3",
   "version": "3.9.1"
  }
 },
 "nbformat": 4,
 "nbformat_minor": 5
}
